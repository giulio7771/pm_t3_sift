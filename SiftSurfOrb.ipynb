{
 "cells": [
  {
   "cell_type": "code",
   "execution_count": null,
   "metadata": {},
   "outputs": [],
   "source": [
    "import cv2\n",
    "import numpy as np\n",
    "from matplotlib import pyplot as plt\n",
    "\n",
    "img = cv2.imread(\"c://temp//the_book_thief.jpg\", cv2.IMREAD_GRAYSCALE)\n",
    "\n",
    "sift = cv2.xfeatures2d.SIFT_create()\n",
    "surf = cv2.xfeatures2d.SURF_create()\n",
    "orb = cv2.ORB_create(nfeatures=1500)\n",
    "\n",
    "keypoints_sift, descriptors = sift.detectAndCompute(img, None)\n",
    "keypoints_surf, descriptors = surf.detectAndCompute(img, None)\n",
    "keypoints_orb, descriptors = orb.detectAndCompute(img, None)\n",
    "\n",
    "imgSift = cv2.drawKeypoints(img, keypoints_sift, None)\n",
    "imgSurf = cv2.drawKeypoints(img, keypoints_surf, None)\n",
    "imgOrb = cv2.drawKeypoints(img, keypoints_orb, None)\n",
    "\n",
    "cv2.imshow(\"sift\", imgSift)\n",
    "cv2.imshow(\"surf\", imgSurf)\n",
    "cv2.imshow(\"orb\", imgOrb)\n",
    "\n",
    "cv2.waitKey(0)\n"
   ]
  },
  {
   "cell_type": "code",
   "execution_count": null,
   "metadata": {},
   "outputs": [],
   "source": []
  }
 ],
 "metadata": {
  "kernelspec": {
   "display_name": "Python 3",
   "language": "python",
   "name": "python3"
  },
  "language_info": {
   "codemirror_mode": {
    "name": "ipython",
    "version": 3
   },
   "file_extension": ".py",
   "mimetype": "text/x-python",
   "name": "python",
   "nbconvert_exporter": "python",
   "pygments_lexer": "ipython3",
   "version": "3.7.6"
  }
 },
 "nbformat": 4,
 "nbformat_minor": 2
}
